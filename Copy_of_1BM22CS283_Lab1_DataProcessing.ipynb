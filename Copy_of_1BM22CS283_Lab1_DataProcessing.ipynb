{
  "nbformat": 4,
  "nbformat_minor": 0,
  "metadata": {
    "colab": {
      "provenance": [],
      "include_colab_link": true
    },
    "kernelspec": {
      "name": "python3",
      "display_name": "Python 3"
    },
    "language_info": {
      "name": "python"
    }
  },
  "cells": [
    {
      "cell_type": "markdown",
      "metadata": {
        "id": "view-in-github",
        "colab_type": "text"
      },
      "source": [
        "<a href=\"https://colab.research.google.com/github/snehanshastri/ML/blob/main/Copy_of_1BM22CS284_Lab1_DataProcessing.ipynb\" target=\"_parent\"><img src=\"https://colab.research.google.com/assets/colab-badge.svg\" alt=\"Open In Colab\"/></a>"
      ]
    },
    {
      "cell_type": "code",
      "source": [
        "missing_col=df.columns[df.isnull().sum()>0]\n",
        "missing_col"
      ],
      "metadata": {
        "colab": {
          "base_uri": "https://localhost:8080/"
        },
        "id": "cmJCvYjkFs7Q",
        "outputId": "73a77933-d15e-44a8-910d-a0d947f3c29e"
      },
      "execution_count": null,
      "outputs": [
        {
          "output_type": "execute_result",
          "data": {
            "text/plain": [
              "Index(['total_bedrooms'], dtype='object')"
            ]
          },
          "metadata": {},
          "execution_count": 16
        }
      ]
    },
    {
      "cell_type": "code",
      "source": [
        "   # For 'adult.csv' (df4)\n",
        "missing_cols_adult = df4.columns[df4.isnull().sum() > 0]\n",
        "print(f\"Columns with missing values in 'adult.csv': {missing_cols_adult.tolist()}\")\n",
        "\n",
        "   # For 'Dataset of Diabetes .csv' (df5)\n",
        "missing_cols_diabetes = df5.columns[df5.isnull().sum() > 0]\n",
        "print(f\"Columns with missing values in 'Dataset of Diabetes .csv': {missing_cols_diabetes.tolist()}\")"
      ],
      "metadata": {
        "colab": {
          "base_uri": "https://localhost:8080/"
        },
        "id": "9gc1MEYXHt77",
        "outputId": "a7e9a9b6-3955-44af-f44b-d4801cf3a305"
      },
      "execution_count": null,
      "outputs": [
        {
          "output_type": "stream",
          "name": "stdout",
          "text": [
            "Columns with missing values in 'adult.csv': []\n",
            "Columns with missing values in 'Dataset of Diabetes .csv': []\n"
          ]
        }
      ]
    },
    {
      "cell_type": "code",
      "source": [
        "# For 'adult.csv' (df4)\n",
        "categorical_cols_adult = df4.select_dtypes(include=['object']).columns\n",
        "print(f\"Categorical columns in 'adult.csv': {categorical_cols_adult.tolist()}\")\n",
        "\n",
        "   # For 'Dataset of Diabetes .csv' (df5)\n",
        "categorical_cols_diabetes = df5.select_dtypes(include=['object']).columns\n",
        "print(f\"Categorical columns in 'Dataset of Diabetes .csv': {categorical_cols_diabetes.tolist()}\")"
      ],
      "metadata": {
        "colab": {
          "base_uri": "https://localhost:8080/"
        },
        "id": "norimQibIVMM",
        "outputId": "e36acc46-44df-4b36-bb51-409b1648fe1b"
      },
      "execution_count": null,
      "outputs": [
        {
          "output_type": "stream",
          "name": "stdout",
          "text": [
            "Categorical columns in 'adult.csv': ['workclass', 'education', 'marital-status', 'occupation', 'relationship', 'race', 'gender', 'native-country', 'income']\n",
            "Categorical columns in 'Dataset of Diabetes .csv': ['Gender', 'CLASS']\n"
          ]
        }
      ]
    }
  ]
}
