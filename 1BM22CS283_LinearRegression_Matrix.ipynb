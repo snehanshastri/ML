{
  "nbformat": 4,
  "nbformat_minor": 0,
  "metadata": {
    "colab": {
      "provenance": [],
      "authorship_tag": "ABX9TyOG4DORYQkcAo21Inc54xlN",
      "include_colab_link": true
    },
    "kernelspec": {
      "name": "python3",
      "display_name": "Python 3"
    },
    "language_info": {
      "name": "python"
    }
  },
  "cells": [
    {
      "cell_type": "markdown",
      "metadata": {
        "id": "view-in-github",
        "colab_type": "text"
      },
      "source": [
        "<a href=\"https://colab.research.google.com/github/snehanshastri/ML/blob/main/1BM22CS283_LinearRegression_Matrix.ipynb\" target=\"_parent\"><img src=\"https://colab.research.google.com/assets/colab-badge.svg\" alt=\"Open In Colab\"/></a>"
      ]
    },
    {
      "cell_type": "code",
      "execution_count": 13,
      "metadata": {
        "colab": {
          "base_uri": "https://localhost:8080/"
        },
        "id": "MtrQJhVpDqTK",
        "outputId": "40192c94-ff12-4579-e788-9f73d8ae285f"
      },
      "outputs": [
        {
          "output_type": "stream",
          "name": "stdout",
          "text": [
            "   X  Y\n",
            "0  1  1\n",
            "1  2  3\n",
            "2  3  4\n",
            "3  4  8\n",
            "[[1. 1.]\n",
            " [1. 2.]\n",
            " [1. 3.]\n",
            " [1. 4.]]\n",
            "[[1]\n",
            " [3]\n",
            " [4]\n",
            " [8]]\n"
          ]
        }
      ],
      "source": [
        "import pandas as pd\n",
        "import numpy as np\n",
        "\n",
        "data={\n",
        "    'X':[1,2,3,4],\n",
        "    'Y':[1,3,4,8]\n",
        "}\n",
        "\n",
        "df=pd.DataFrame(data)\n",
        "print(df)\n",
        "\n",
        "X=np.array(df['X']).reshape(-1,1)\n",
        "X=np.concatenate((X,np.ones((X.shape[0],1))),axis=1)\n",
        "X = np.concatenate((np.ones((X.shape[0], 1)), X[:,0].reshape(-1,1)), axis=1)\n",
        "Y=np.array(df['Y']).reshape(-1,1)\n",
        "\n",
        "print(X)\n",
        "print(Y)\n"
      ]
    },
    {
      "cell_type": "code",
      "source": [
        "X_transpose = np.transpose(X)\n",
        "XTX = np.dot(X_transpose, X)\n",
        "XTX_inv = np.linalg.inv(XTX)\n",
        "XTX_inv_X_transpose = np.dot(XTX_inv, X_transpose)\n",
        "beta = np.dot(XTX_inv_X_transpose, Y)\n",
        "print(beta)"
      ],
      "metadata": {
        "colab": {
          "base_uri": "https://localhost:8080/"
        },
        "id": "958DvyU1EMYG",
        "outputId": "eba1471c-8818-4c66-dc43-6c6244c37607"
      },
      "execution_count": 17,
      "outputs": [
        {
          "output_type": "stream",
          "name": "stdout",
          "text": [
            "[[-1.5]\n",
            " [ 2.2]]\n"
          ]
        }
      ]
    },
    {
      "cell_type": "code",
      "source": [
        "y=beta[0]+beta[1]*X\n",
        "y"
      ],
      "metadata": {
        "colab": {
          "base_uri": "https://localhost:8080/"
        },
        "id": "QW7Ncq9dIIhO",
        "outputId": "51e6d437-5281-4c88-db9b-2f7a72b4959e"
      },
      "execution_count": 21,
      "outputs": [
        {
          "output_type": "execute_result",
          "data": {
            "text/plain": [
              "array([[0.7, 0.7],\n",
              "       [0.7, 2.9],\n",
              "       [0.7, 5.1],\n",
              "       [0.7, 7.3]])"
            ]
          },
          "metadata": {},
          "execution_count": 21
        }
      ]
    },
    {
      "cell_type": "code",
      "source": [
        "import matplotlib.pyplot as plt\n",
        "plt.scatter(df['X'],df['Y'])\n",
        "plt.plot(X[:,1],y[:,1],'r')\n"
      ],
      "metadata": {
        "colab": {
          "base_uri": "https://localhost:8080/",
          "height": 447
        },
        "id": "VmPHprl7IaRv",
        "outputId": "dee67d26-8fc5-41a9-c6c5-ce07f02b7674"
      },
      "execution_count": 29,
      "outputs": [
        {
          "output_type": "execute_result",
          "data": {
            "text/plain": [
              "[<matplotlib.lines.Line2D at 0x7e7fa4adad50>]"
            ]
          },
          "metadata": {},
          "execution_count": 29
        },
        {
          "output_type": "display_data",
          "data": {
            "text/plain": [
              "<Figure size 640x480 with 1 Axes>"
            ],
            "image/png": "[encoded data removed]"
          },
          "metadata": {}
        }
      ]
    }
  ]
}